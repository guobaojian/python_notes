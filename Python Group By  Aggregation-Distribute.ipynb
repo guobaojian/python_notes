{
 "cells": [
  {
   "cell_type": "code",
   "execution_count": 3,
   "id": "64c4172f",
   "metadata": {},
   "outputs": [],
   "source": [
    "import pandas as pd\n",
    "import numpy as np\n",
    "employee =pd.read_csv(\"nba.csv\")"
   ]
  },
  {
   "cell_type": "code",
   "execution_count": 4,
   "id": "a2843504",
   "metadata": {},
   "outputs": [
    {
     "name": "stdout",
     "output_type": "stream",
     "text": [
      "            Name            Team  Number Position   Age Height  Weight  \\\n",
      "0  Avery Bradley  Boston Celtics     0.0       PG  25.0    6-2   180.0   \n",
      "1    Jae Crowder  Boston Celtics    99.0       SF  25.0    6-6   235.0   \n",
      "2   John Holland  Boston Celtics    30.0       SG  27.0    6-5   205.0   \n",
      "3    R.J. Hunter  Boston Celtics    28.0       SG  22.0    6-5   185.0   \n",
      "4  Jonas Jerebko  Boston Celtics     8.0       PF  29.0   6-10   231.0   \n",
      "\n",
      "             College     Salary    AVG_SALARY  \n",
      "0              Texas  7730337.0  4.181505e+06  \n",
      "1          Marquette  6796117.0  4.181505e+06  \n",
      "2  Boston University        NaN  4.181505e+06  \n",
      "3      Georgia State  1148640.0  4.181505e+06  \n",
      "4                NaN  5000000.0  4.181505e+06  \n"
     ]
    }
   ],
   "source": [
    "#V Copying the grouping & aggregate results back to the original data frame\n",
    "#group. transform() function calculates aggregate on each group, returns the result and populates \n",
    "#it to all rows in the order of the original index\n",
    "employee['AVG_SALARY'] = employee.groupby('Team').Salary.transform('mean')\n",
    "print(employee.head())\n"
   ]
  },
  {
   "cell_type": "code",
   "execution_count": 12,
   "id": "03c3636e",
   "metadata": {},
   "outputs": [
    {
     "name": "stdout",
     "output_type": "stream",
     "text": [
      "               Name           Team  Number Position   Age Height  Weight  \\\n",
      "0   Dennis Schroder  Atlanta Hawks    17.0       PG  22.0    6-1   172.0   \n",
      "1  Tim Hardaway Jr.  Atlanta Hawks    10.0       SG  24.0    6-6   205.0   \n",
      "2      Mike Muscala  Atlanta Hawks    31.0       PF  24.0   6-11   240.0   \n",
      "3   Lamar Patterson  Atlanta Hawks    13.0       SG  24.0    6-5   225.0   \n",
      "4    Walter Tavares  Atlanta Hawks    22.0        C  24.0    7-3   260.0   \n",
      "\n",
      "      College     Salary    AVG_SALARY  \n",
      "0         NaN  1763400.0  4.860197e+06  \n",
      "1    Michigan  1304520.0  4.860197e+06  \n",
      "2    Bucknell   947276.0  4.860197e+06  \n",
      "3  Pittsburgh   525093.0  4.860197e+06  \n",
      "4         NaN  1000000.0  4.860197e+06  \n"
     ]
    }
   ],
   "source": [
    "#Group records by department, and loop through each group to order records by hire date.\n",
    "employee_new = employee.groupby('Team',as_index=False).apply(lambda x:x.sort_values('Age')).reset_index(drop=True)\n",
    "print(employee_new.head())"
   ]
  },
  {
   "cell_type": "code",
   "execution_count": 15,
   "id": "6630130d",
   "metadata": {},
   "outputs": [],
   "source": [
    "#rank within group\n",
    "employee[\"rank\"] = employee.groupby(\"Team\")[\"Age\"].rank(\"dense\", ascending=False)\n",
    "print(employee.tail(10))"
   ]
  },
  {
   "cell_type": "code",
   "execution_count": 18,
   "id": "4b42d286",
   "metadata": {},
   "outputs": [
    {
     "name": "stdout",
     "output_type": "stream",
     "text": [
      "               Name       Team  Number Position   Age Height  Weight  \\\n",
      "448  Gordon Hayward  Utah Jazz    20.0       SF  26.0    6-8   226.0   \n",
      "449     Rodney Hood  Utah Jazz     5.0       SG  23.0    6-8   206.0   \n",
      "450      Joe Ingles  Utah Jazz     2.0       SF  28.0    6-8   226.0   \n",
      "451   Chris Johnson  Utah Jazz    23.0       SF  26.0    6-6   206.0   \n",
      "452      Trey Lyles  Utah Jazz    41.0       PF  20.0   6-10   234.0   \n",
      "453    Shelvin Mack  Utah Jazz     8.0       PG  26.0    6-3   203.0   \n",
      "454       Raul Neto  Utah Jazz    25.0       PG  24.0    6-1   179.0   \n",
      "455    Tibor Pleiss  Utah Jazz    21.0        C  26.0    7-3   256.0   \n",
      "456     Jeff Withey  Utah Jazz    24.0        C  26.0    7-0   231.0   \n",
      "457             NaN        NaN     NaN      NaN   NaN    NaN     NaN   \n",
      "\n",
      "      College      Salary    AVG_SALARY  rank  \n",
      "448    Butler  15409570.0  4.204006e+06   2.0  \n",
      "449      Duke   1348440.0  4.204006e+06   4.0  \n",
      "450       NaN   2050000.0  4.204006e+06   1.0  \n",
      "451    Dayton    981348.0  4.204006e+06   2.0  \n",
      "452  Kentucky   2239800.0  4.204006e+06   5.0  \n",
      "453    Butler   2433333.0  4.204006e+06   2.0  \n",
      "454       NaN    900000.0  4.204006e+06   3.0  \n",
      "455       NaN   2900000.0  4.204006e+06   2.0  \n",
      "456    Kansas    947276.0  4.204006e+06   2.0  \n",
      "457       NaN         NaN           NaN   NaN  \n"
     ]
    }
   ],
   "source": []
  },
  {
   "cell_type": "code",
   "execution_count": null,
   "id": "b1c40b38",
   "metadata": {},
   "outputs": [],
   "source": []
  }
 ],
 "metadata": {
  "kernelspec": {
   "display_name": "Python 3 (ipykernel)",
   "language": "python",
   "name": "python3"
  },
  "language_info": {
   "codemirror_mode": {
    "name": "ipython",
    "version": 3
   },
   "file_extension": ".py",
   "mimetype": "text/x-python",
   "name": "python",
   "nbconvert_exporter": "python",
   "pygments_lexer": "ipython3",
   "version": "3.9.7"
  }
 },
 "nbformat": 4,
 "nbformat_minor": 5
}
