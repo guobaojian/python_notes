{
 "cells": [
  {
   "cell_type": "markdown",
   "id": "d50b03f9",
   "metadata": {},
   "source": [
    "# Python Group By "
   ]
  },
  {
   "cell_type": "code",
   "execution_count": 12,
   "id": "418dc1a6",
   "metadata": {},
   "outputs": [],
   "source": [
    "import pandas as pd\n",
    "import numpy as np\n",
    "df =pd.read_csv(\"nba.csv\")"
   ]
  },
  {
   "cell_type": "code",
   "execution_count": 2,
   "id": "af6ee9e8",
   "metadata": {},
   "outputs": [
    {
     "data": {
      "text/html": [
       "<div>\n",
       "<style scoped>\n",
       "    .dataframe tbody tr th:only-of-type {\n",
       "        vertical-align: middle;\n",
       "    }\n",
       "\n",
       "    .dataframe tbody tr th {\n",
       "        vertical-align: top;\n",
       "    }\n",
       "\n",
       "    .dataframe thead th {\n",
       "        text-align: right;\n",
       "    }\n",
       "</style>\n",
       "<table border=\"1\" class=\"dataframe\">\n",
       "  <thead>\n",
       "    <tr style=\"text-align: right;\">\n",
       "      <th></th>\n",
       "      <th>Name</th>\n",
       "      <th>Team</th>\n",
       "      <th>Number</th>\n",
       "      <th>Position</th>\n",
       "      <th>Age</th>\n",
       "      <th>Height</th>\n",
       "      <th>Weight</th>\n",
       "      <th>College</th>\n",
       "      <th>Salary</th>\n",
       "    </tr>\n",
       "  </thead>\n",
       "  <tbody>\n",
       "    <tr>\n",
       "      <th>0</th>\n",
       "      <td>Avery Bradley</td>\n",
       "      <td>Boston Celtics</td>\n",
       "      <td>0.0</td>\n",
       "      <td>PG</td>\n",
       "      <td>25.0</td>\n",
       "      <td>6-2</td>\n",
       "      <td>180.0</td>\n",
       "      <td>Texas</td>\n",
       "      <td>7730337.0</td>\n",
       "    </tr>\n",
       "    <tr>\n",
       "      <th>1</th>\n",
       "      <td>Jae Crowder</td>\n",
       "      <td>Boston Celtics</td>\n",
       "      <td>99.0</td>\n",
       "      <td>SF</td>\n",
       "      <td>25.0</td>\n",
       "      <td>6-6</td>\n",
       "      <td>235.0</td>\n",
       "      <td>Marquette</td>\n",
       "      <td>6796117.0</td>\n",
       "    </tr>\n",
       "    <tr>\n",
       "      <th>2</th>\n",
       "      <td>John Holland</td>\n",
       "      <td>Boston Celtics</td>\n",
       "      <td>30.0</td>\n",
       "      <td>SG</td>\n",
       "      <td>27.0</td>\n",
       "      <td>6-5</td>\n",
       "      <td>205.0</td>\n",
       "      <td>Boston University</td>\n",
       "      <td>NaN</td>\n",
       "    </tr>\n",
       "    <tr>\n",
       "      <th>3</th>\n",
       "      <td>R.J. Hunter</td>\n",
       "      <td>Boston Celtics</td>\n",
       "      <td>28.0</td>\n",
       "      <td>SG</td>\n",
       "      <td>22.0</td>\n",
       "      <td>6-5</td>\n",
       "      <td>185.0</td>\n",
       "      <td>Georgia State</td>\n",
       "      <td>1148640.0</td>\n",
       "    </tr>\n",
       "    <tr>\n",
       "      <th>4</th>\n",
       "      <td>Jonas Jerebko</td>\n",
       "      <td>Boston Celtics</td>\n",
       "      <td>8.0</td>\n",
       "      <td>PF</td>\n",
       "      <td>29.0</td>\n",
       "      <td>6-10</td>\n",
       "      <td>231.0</td>\n",
       "      <td>NaN</td>\n",
       "      <td>5000000.0</td>\n",
       "    </tr>\n",
       "  </tbody>\n",
       "</table>\n",
       "</div>"
      ],
      "text/plain": [
       "            Name            Team  Number Position   Age Height  Weight  \\\n",
       "0  Avery Bradley  Boston Celtics     0.0       PG  25.0    6-2   180.0   \n",
       "1    Jae Crowder  Boston Celtics    99.0       SF  25.0    6-6   235.0   \n",
       "2   John Holland  Boston Celtics    30.0       SG  27.0    6-5   205.0   \n",
       "3    R.J. Hunter  Boston Celtics    28.0       SG  22.0    6-5   185.0   \n",
       "4  Jonas Jerebko  Boston Celtics     8.0       PF  29.0   6-10   231.0   \n",
       "\n",
       "             College     Salary  \n",
       "0              Texas  7730337.0  \n",
       "1          Marquette  6796117.0  \n",
       "2  Boston University        NaN  \n",
       "3      Georgia State  1148640.0  \n",
       "4                NaN  5000000.0  "
      ]
     },
     "execution_count": 2,
     "metadata": {},
     "output_type": "execute_result"
    }
   ],
   "source": [
    "df.head()"
   ]
  },
  {
   "cell_type": "code",
   "execution_count": 9,
   "id": "b031083f",
   "metadata": {},
   "outputs": [
    {
     "name": "stdout",
     "output_type": "stream",
     "text": [
      "Team\n",
      "Atlanta Hawks        15\n",
      "Boston Celtics       15\n",
      "Brooklyn Nets        15\n",
      "Charlotte Hornets    15\n",
      "Chicago Bulls        15\n",
      "Name: Team, dtype: int64\n"
     ]
    }
   ],
   "source": [
    "#Grouping and perform count over each group\n",
    "Team_num =  df.groupby('Team')['Team'].count()\n",
    "print(Team_num.head())"
   ]
  },
  {
   "cell_type": "code",
   "execution_count": 10,
   "id": "0ffbe0c9",
   "metadata": {},
   "outputs": [
    {
     "name": "stdout",
     "output_type": "stream",
     "text": [
      "            Team Position        Salary\n",
      "0  Atlanta Hawks        C  7.585417e+06\n",
      "1  Atlanta Hawks       PF  5.988067e+06\n",
      "2  Atlanta Hawks       PG  4.881700e+06\n",
      "3  Atlanta Hawks       SF  3.000000e+06\n",
      "4  Atlanta Hawks       SG  2.607758e+06\n"
     ]
    }
   ],
   "source": [
    "#Group by two keys and then summarize each group\n",
    "Team_salary = df.groupby(['Team','Position'],as_index=False).Salary.mean()\n",
    "print(Team_salary.head())"
   ]
  },
  {
   "cell_type": "code",
   "execution_count": 31,
   "id": "fd169ecb",
   "metadata": {},
   "outputs": [
    {
     "name": "stdout",
     "output_type": "stream",
     "text": [
      "       avg_salary\n",
      "Age              \n",
      "1.0  1.930440e+06\n",
      "2.0  4.340472e+06\n",
      "3.0  6.304499e+06\n",
      "4.0  4.666917e+06\n"
     ]
    }
   ],
   "source": [
    "#Calculate an array of calculated column values, group records by them, and calculate the average salary\n",
    "age_salary = df.groupby(np.floor((df.Age/10)),as_index=True).Salary.mean().to_frame()\n",
    "age_salary.columns=['avg_salary']\n",
    "print(age_salary.head())\n"
   ]
  },
  {
   "cell_type": "code",
   "execution_count": 34,
   "id": "e3c7b15d",
   "metadata": {},
   "outputs": [
    {
     "name": "stdout",
     "output_type": "stream",
     "text": [
      "                   Count    AVG_SALARY\n",
      "Team                                  \n",
      "Atlanta Hawks         15  4.860197e+06\n",
      "Boston Celtics        15  4.181505e+06\n",
      "Brooklyn Nets         15  3.501898e+06\n",
      "Charlotte Hornets     15  5.222728e+06\n",
      "Chicago Bulls         15  5.785559e+06\n"
     ]
    }
   ],
   "source": [
    "#One aggregate on each of multiple columns\n",
    "dept_agg =  df.groupby('Team',as_index=True).agg({'Team':'count','Salary':'mean'})\n",
    "#Rename the columns\n",
    "print(dept_agg.rename(columns={'Team':'Count','Salary':'AVG_SALARY'}).head())\n"
   ]
  },
  {
   "cell_type": "code",
   "execution_count": 35,
   "id": "53cafde1",
   "metadata": {},
   "outputs": [
    {
     "name": "stdout",
     "output_type": "stream",
     "text": [
      "                Team  NUM    AVG_SALARY\n",
      "0      Atlanta Hawks   15  4.860197e+06\n",
      "1     Boston Celtics   14  4.181505e+06\n",
      "2      Brooklyn Nets   15  3.501898e+06\n",
      "3  Charlotte Hornets   15  5.222728e+06\n",
      "4      Chicago Bulls   15  5.785559e+06\n"
     ]
    }
   ],
   "source": [
    "#Multiple aggregates on one column\n",
    "dept_agg = df.groupby('Team').Salary.agg(['count','mean']).reset_index()\n",
    "#Rename columns\n",
    "print(dept_agg.rename(columns={'count':'NUM','mean':'AVG_SALARY'}).head())"
   ]
  },
  {
   "cell_type": "code",
   "execution_count": 36,
   "id": "8e1928ac",
   "metadata": {},
   "outputs": [
    {
     "name": "stdout",
     "output_type": "stream",
     "text": [
      "                Team  NUM    AVG_SALARY  MAX_AGE\n",
      "0      Atlanta Hawks   15  4.860197e+06     35.0\n",
      "1     Boston Celtics   14  4.181505e+06     29.0\n",
      "2      Brooklyn Nets   15  3.501898e+06     32.0\n",
      "3  Charlotte Hornets   15  5.222728e+06     31.0\n",
      "4      Chicago Bulls   15  5.785559e+06     35.0\n"
     ]
    }
   ],
   "source": [
    "#Multiple aggregates over multiple columns\n",
    "dept_agg = df.groupby('Team').agg({'Salary':['count','mean'],'Age':max})\n",
    "#Rename columns\n",
    "dept_agg.columns = ['NUM','AVG_SALARY','MAX_AGE']\n",
    "print(dept_agg.reset_index().head())"
   ]
  },
  {
   "cell_type": "code",
   "execution_count": null,
   "id": "1d93d160",
   "metadata": {},
   "outputs": [],
   "source": []
  }
 ],
 "metadata": {
  "kernelspec": {
   "display_name": "Python 3 (ipykernel)",
   "language": "python",
   "name": "python3"
  },
  "language_info": {
   "codemirror_mode": {
    "name": "ipython",
    "version": 3
   },
   "file_extension": ".py",
   "mimetype": "text/x-python",
   "name": "python",
   "nbconvert_exporter": "python",
   "pygments_lexer": "ipython3",
   "version": "3.9.7"
  }
 },
 "nbformat": 4,
 "nbformat_minor": 5
}
